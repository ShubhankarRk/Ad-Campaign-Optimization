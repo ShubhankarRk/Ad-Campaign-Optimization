{
 "cells": [
  {
   "cell_type": "markdown",
   "id": "cf0a29fb",
   "metadata": {},
   "source": [
    "### Loading Libraries"
   ]
  },
  {
   "cell_type": "code",
   "execution_count": 1,
   "id": "6375af82",
   "metadata": {},
   "outputs": [
    {
     "name": "stderr",
     "output_type": "stream",
     "text": [
      "/opt/anaconda3/lib/python3.9/site-packages/pandas/core/computation/expressions.py:21: UserWarning: Pandas requires version '2.8.4' or newer of 'numexpr' (version '2.8.3' currently installed).\n",
      "  from pandas.core.computation.check import NUMEXPR_INSTALLED\n",
      "/opt/anaconda3/lib/python3.9/site-packages/pandas/core/arrays/masked.py:60: UserWarning: Pandas requires version '1.3.6' or newer of 'bottleneck' (version '1.3.5' currently installed).\n",
      "  from pandas.core import (\n"
     ]
    }
   ],
   "source": [
    "import pandas as pd\n",
    "import numpy as np\n",
    "import matplotlib.pyplot as plt\n",
    "import seaborn as sns\n",
    "from scipy.stats import shapiro\n",
    "import pingouin\n",
    "%matplotlib inline\n",
    "\n",
    "import warnings\n",
    "warnings.filterwarnings('ignore')"
   ]
  },
  {
   "cell_type": "markdown",
   "id": "e3bcf404",
   "metadata": {},
   "source": [
    "### Data loading"
   ]
  },
  {
   "cell_type": "code",
   "execution_count": 2,
   "id": "ecec2d35",
   "metadata": {},
   "outputs": [],
   "source": [
    "test = pd.read_csv('test_group.csv', delimiter = ';')\n",
    "control = pd.read_csv('control_group.csv', delimiter = ';')"
   ]
  },
  {
   "cell_type": "code",
   "execution_count": 3,
   "id": "046d7883",
   "metadata": {},
   "outputs": [
    {
     "data": {
      "text/html": [
       "<div>\n",
       "<style scoped>\n",
       "    .dataframe tbody tr th:only-of-type {\n",
       "        vertical-align: middle;\n",
       "    }\n",
       "\n",
       "    .dataframe tbody tr th {\n",
       "        vertical-align: top;\n",
       "    }\n",
       "\n",
       "    .dataframe thead th {\n",
       "        text-align: right;\n",
       "    }\n",
       "</style>\n",
       "<table border=\"1\" class=\"dataframe\">\n",
       "  <thead>\n",
       "    <tr style=\"text-align: right;\">\n",
       "      <th></th>\n",
       "      <th>Campaign Name</th>\n",
       "      <th>Date</th>\n",
       "      <th>Spend [USD]</th>\n",
       "      <th># of Impressions</th>\n",
       "      <th>Reach</th>\n",
       "      <th># of Website Clicks</th>\n",
       "      <th># of Searches</th>\n",
       "      <th># of View Content</th>\n",
       "      <th># of Add to Cart</th>\n",
       "      <th># of Purchase</th>\n",
       "    </tr>\n",
       "  </thead>\n",
       "  <tbody>\n",
       "    <tr>\n",
       "      <th>0</th>\n",
       "      <td>Test Campaign</td>\n",
       "      <td>1.08.2019</td>\n",
       "      <td>3008</td>\n",
       "      <td>39550</td>\n",
       "      <td>35820</td>\n",
       "      <td>3038</td>\n",
       "      <td>1946</td>\n",
       "      <td>1069</td>\n",
       "      <td>894</td>\n",
       "      <td>255</td>\n",
       "    </tr>\n",
       "    <tr>\n",
       "      <th>1</th>\n",
       "      <td>Test Campaign</td>\n",
       "      <td>2.08.2019</td>\n",
       "      <td>2542</td>\n",
       "      <td>100719</td>\n",
       "      <td>91236</td>\n",
       "      <td>4657</td>\n",
       "      <td>2359</td>\n",
       "      <td>1548</td>\n",
       "      <td>879</td>\n",
       "      <td>677</td>\n",
       "    </tr>\n",
       "    <tr>\n",
       "      <th>2</th>\n",
       "      <td>Test Campaign</td>\n",
       "      <td>3.08.2019</td>\n",
       "      <td>2365</td>\n",
       "      <td>70263</td>\n",
       "      <td>45198</td>\n",
       "      <td>7885</td>\n",
       "      <td>2572</td>\n",
       "      <td>2367</td>\n",
       "      <td>1268</td>\n",
       "      <td>578</td>\n",
       "    </tr>\n",
       "    <tr>\n",
       "      <th>3</th>\n",
       "      <td>Test Campaign</td>\n",
       "      <td>4.08.2019</td>\n",
       "      <td>2710</td>\n",
       "      <td>78451</td>\n",
       "      <td>25937</td>\n",
       "      <td>4216</td>\n",
       "      <td>2216</td>\n",
       "      <td>1437</td>\n",
       "      <td>566</td>\n",
       "      <td>340</td>\n",
       "    </tr>\n",
       "    <tr>\n",
       "      <th>4</th>\n",
       "      <td>Test Campaign</td>\n",
       "      <td>5.08.2019</td>\n",
       "      <td>2297</td>\n",
       "      <td>114295</td>\n",
       "      <td>95138</td>\n",
       "      <td>5863</td>\n",
       "      <td>2106</td>\n",
       "      <td>858</td>\n",
       "      <td>956</td>\n",
       "      <td>768</td>\n",
       "    </tr>\n",
       "  </tbody>\n",
       "</table>\n",
       "</div>"
      ],
      "text/plain": [
       "   Campaign Name       Date  Spend [USD]  # of Impressions  Reach  \\\n",
       "0  Test Campaign  1.08.2019         3008             39550  35820   \n",
       "1  Test Campaign  2.08.2019         2542            100719  91236   \n",
       "2  Test Campaign  3.08.2019         2365             70263  45198   \n",
       "3  Test Campaign  4.08.2019         2710             78451  25937   \n",
       "4  Test Campaign  5.08.2019         2297            114295  95138   \n",
       "\n",
       "   # of Website Clicks  # of Searches  # of View Content  # of Add to Cart  \\\n",
       "0                 3038           1946               1069               894   \n",
       "1                 4657           2359               1548               879   \n",
       "2                 7885           2572               2367              1268   \n",
       "3                 4216           2216               1437               566   \n",
       "4                 5863           2106                858               956   \n",
       "\n",
       "   # of Purchase  \n",
       "0            255  \n",
       "1            677  \n",
       "2            578  \n",
       "3            340  \n",
       "4            768  "
      ]
     },
     "execution_count": 3,
     "metadata": {},
     "output_type": "execute_result"
    }
   ],
   "source": [
    "test.head()"
   ]
  },
  {
   "cell_type": "code",
   "execution_count": 4,
   "id": "ad2b6946",
   "metadata": {},
   "outputs": [
    {
     "data": {
      "text/html": [
       "<div>\n",
       "<style scoped>\n",
       "    .dataframe tbody tr th:only-of-type {\n",
       "        vertical-align: middle;\n",
       "    }\n",
       "\n",
       "    .dataframe tbody tr th {\n",
       "        vertical-align: top;\n",
       "    }\n",
       "\n",
       "    .dataframe thead th {\n",
       "        text-align: right;\n",
       "    }\n",
       "</style>\n",
       "<table border=\"1\" class=\"dataframe\">\n",
       "  <thead>\n",
       "    <tr style=\"text-align: right;\">\n",
       "      <th></th>\n",
       "      <th>Campaign Name</th>\n",
       "      <th>Date</th>\n",
       "      <th>Spend [USD]</th>\n",
       "      <th># of Impressions</th>\n",
       "      <th>Reach</th>\n",
       "      <th># of Website Clicks</th>\n",
       "      <th># of Searches</th>\n",
       "      <th># of View Content</th>\n",
       "      <th># of Add to Cart</th>\n",
       "      <th># of Purchase</th>\n",
       "    </tr>\n",
       "  </thead>\n",
       "  <tbody>\n",
       "    <tr>\n",
       "      <th>0</th>\n",
       "      <td>Control Campaign</td>\n",
       "      <td>1.08.2019</td>\n",
       "      <td>2280</td>\n",
       "      <td>82702.0</td>\n",
       "      <td>56930.0</td>\n",
       "      <td>7016.0</td>\n",
       "      <td>2290.0</td>\n",
       "      <td>2159.0</td>\n",
       "      <td>1819.0</td>\n",
       "      <td>618.0</td>\n",
       "    </tr>\n",
       "    <tr>\n",
       "      <th>1</th>\n",
       "      <td>Control Campaign</td>\n",
       "      <td>2.08.2019</td>\n",
       "      <td>1757</td>\n",
       "      <td>121040.0</td>\n",
       "      <td>102513.0</td>\n",
       "      <td>8110.0</td>\n",
       "      <td>2033.0</td>\n",
       "      <td>1841.0</td>\n",
       "      <td>1219.0</td>\n",
       "      <td>511.0</td>\n",
       "    </tr>\n",
       "    <tr>\n",
       "      <th>2</th>\n",
       "      <td>Control Campaign</td>\n",
       "      <td>3.08.2019</td>\n",
       "      <td>2343</td>\n",
       "      <td>131711.0</td>\n",
       "      <td>110862.0</td>\n",
       "      <td>6508.0</td>\n",
       "      <td>1737.0</td>\n",
       "      <td>1549.0</td>\n",
       "      <td>1134.0</td>\n",
       "      <td>372.0</td>\n",
       "    </tr>\n",
       "    <tr>\n",
       "      <th>3</th>\n",
       "      <td>Control Campaign</td>\n",
       "      <td>4.08.2019</td>\n",
       "      <td>1940</td>\n",
       "      <td>72878.0</td>\n",
       "      <td>61235.0</td>\n",
       "      <td>3065.0</td>\n",
       "      <td>1042.0</td>\n",
       "      <td>982.0</td>\n",
       "      <td>1183.0</td>\n",
       "      <td>340.0</td>\n",
       "    </tr>\n",
       "    <tr>\n",
       "      <th>4</th>\n",
       "      <td>Control Campaign</td>\n",
       "      <td>5.08.2019</td>\n",
       "      <td>1835</td>\n",
       "      <td>NaN</td>\n",
       "      <td>NaN</td>\n",
       "      <td>NaN</td>\n",
       "      <td>NaN</td>\n",
       "      <td>NaN</td>\n",
       "      <td>NaN</td>\n",
       "      <td>NaN</td>\n",
       "    </tr>\n",
       "  </tbody>\n",
       "</table>\n",
       "</div>"
      ],
      "text/plain": [
       "      Campaign Name       Date  Spend [USD]  # of Impressions     Reach  \\\n",
       "0  Control Campaign  1.08.2019         2280           82702.0   56930.0   \n",
       "1  Control Campaign  2.08.2019         1757          121040.0  102513.0   \n",
       "2  Control Campaign  3.08.2019         2343          131711.0  110862.0   \n",
       "3  Control Campaign  4.08.2019         1940           72878.0   61235.0   \n",
       "4  Control Campaign  5.08.2019         1835               NaN       NaN   \n",
       "\n",
       "   # of Website Clicks  # of Searches  # of View Content  # of Add to Cart  \\\n",
       "0               7016.0         2290.0             2159.0            1819.0   \n",
       "1               8110.0         2033.0             1841.0            1219.0   \n",
       "2               6508.0         1737.0             1549.0            1134.0   \n",
       "3               3065.0         1042.0              982.0            1183.0   \n",
       "4                  NaN            NaN                NaN               NaN   \n",
       "\n",
       "   # of Purchase  \n",
       "0          618.0  \n",
       "1          511.0  \n",
       "2          372.0  \n",
       "3          340.0  \n",
       "4            NaN  "
      ]
     },
     "execution_count": 4,
     "metadata": {},
     "output_type": "execute_result"
    }
   ],
   "source": [
    "control.head()"
   ]
  },
  {
   "cell_type": "markdown",
   "id": "6ac556f8",
   "metadata": {},
   "source": [
    "### Unifying the dataset"
   ]
  },
  {
   "cell_type": "code",
   "execution_count": 5,
   "id": "b57abd30",
   "metadata": {},
   "outputs": [],
   "source": [
    "df = pd.concat([test, control], axis = 0) #merging the two dataframes vertically as they contain the same inforation but for the two campaigns\n",
    "df = df.reset_index(drop = True)"
   ]
  },
  {
   "cell_type": "code",
   "execution_count": 6,
   "id": "f187bbdc",
   "metadata": {},
   "outputs": [
    {
     "data": {
      "text/html": [
       "<div>\n",
       "<style scoped>\n",
       "    .dataframe tbody tr th:only-of-type {\n",
       "        vertical-align: middle;\n",
       "    }\n",
       "\n",
       "    .dataframe tbody tr th {\n",
       "        vertical-align: top;\n",
       "    }\n",
       "\n",
       "    .dataframe thead th {\n",
       "        text-align: right;\n",
       "    }\n",
       "</style>\n",
       "<table border=\"1\" class=\"dataframe\">\n",
       "  <thead>\n",
       "    <tr style=\"text-align: right;\">\n",
       "      <th></th>\n",
       "      <th>Campaign Name</th>\n",
       "      <th>Date</th>\n",
       "      <th>Spend [USD]</th>\n",
       "      <th># of Impressions</th>\n",
       "      <th>Reach</th>\n",
       "      <th># of Website Clicks</th>\n",
       "      <th># of Searches</th>\n",
       "      <th># of View Content</th>\n",
       "      <th># of Add to Cart</th>\n",
       "      <th># of Purchase</th>\n",
       "    </tr>\n",
       "  </thead>\n",
       "  <tbody>\n",
       "    <tr>\n",
       "      <th>0</th>\n",
       "      <td>Test Campaign</td>\n",
       "      <td>1.08.2019</td>\n",
       "      <td>3008</td>\n",
       "      <td>39550.0</td>\n",
       "      <td>35820.0</td>\n",
       "      <td>3038.0</td>\n",
       "      <td>1946.0</td>\n",
       "      <td>1069.0</td>\n",
       "      <td>894.0</td>\n",
       "      <td>255.0</td>\n",
       "    </tr>\n",
       "    <tr>\n",
       "      <th>1</th>\n",
       "      <td>Test Campaign</td>\n",
       "      <td>2.08.2019</td>\n",
       "      <td>2542</td>\n",
       "      <td>100719.0</td>\n",
       "      <td>91236.0</td>\n",
       "      <td>4657.0</td>\n",
       "      <td>2359.0</td>\n",
       "      <td>1548.0</td>\n",
       "      <td>879.0</td>\n",
       "      <td>677.0</td>\n",
       "    </tr>\n",
       "    <tr>\n",
       "      <th>2</th>\n",
       "      <td>Test Campaign</td>\n",
       "      <td>3.08.2019</td>\n",
       "      <td>2365</td>\n",
       "      <td>70263.0</td>\n",
       "      <td>45198.0</td>\n",
       "      <td>7885.0</td>\n",
       "      <td>2572.0</td>\n",
       "      <td>2367.0</td>\n",
       "      <td>1268.0</td>\n",
       "      <td>578.0</td>\n",
       "    </tr>\n",
       "    <tr>\n",
       "      <th>3</th>\n",
       "      <td>Test Campaign</td>\n",
       "      <td>4.08.2019</td>\n",
       "      <td>2710</td>\n",
       "      <td>78451.0</td>\n",
       "      <td>25937.0</td>\n",
       "      <td>4216.0</td>\n",
       "      <td>2216.0</td>\n",
       "      <td>1437.0</td>\n",
       "      <td>566.0</td>\n",
       "      <td>340.0</td>\n",
       "    </tr>\n",
       "    <tr>\n",
       "      <th>4</th>\n",
       "      <td>Test Campaign</td>\n",
       "      <td>5.08.2019</td>\n",
       "      <td>2297</td>\n",
       "      <td>114295.0</td>\n",
       "      <td>95138.0</td>\n",
       "      <td>5863.0</td>\n",
       "      <td>2106.0</td>\n",
       "      <td>858.0</td>\n",
       "      <td>956.0</td>\n",
       "      <td>768.0</td>\n",
       "    </tr>\n",
       "  </tbody>\n",
       "</table>\n",
       "</div>"
      ],
      "text/plain": [
       "   Campaign Name       Date  Spend [USD]  # of Impressions    Reach  \\\n",
       "0  Test Campaign  1.08.2019         3008           39550.0  35820.0   \n",
       "1  Test Campaign  2.08.2019         2542          100719.0  91236.0   \n",
       "2  Test Campaign  3.08.2019         2365           70263.0  45198.0   \n",
       "3  Test Campaign  4.08.2019         2710           78451.0  25937.0   \n",
       "4  Test Campaign  5.08.2019         2297          114295.0  95138.0   \n",
       "\n",
       "   # of Website Clicks  # of Searches  # of View Content  # of Add to Cart  \\\n",
       "0               3038.0         1946.0             1069.0             894.0   \n",
       "1               4657.0         2359.0             1548.0             879.0   \n",
       "2               7885.0         2572.0             2367.0            1268.0   \n",
       "3               4216.0         2216.0             1437.0             566.0   \n",
       "4               5863.0         2106.0              858.0             956.0   \n",
       "\n",
       "   # of Purchase  \n",
       "0          255.0  \n",
       "1          677.0  \n",
       "2          578.0  \n",
       "3          340.0  \n",
       "4          768.0  "
      ]
     },
     "execution_count": 6,
     "metadata": {},
     "output_type": "execute_result"
    }
   ],
   "source": [
    "df.head()"
   ]
  },
  {
   "cell_type": "markdown",
   "id": "9b5f7968",
   "metadata": {},
   "source": [
    "### Data Exploration"
   ]
  },
  {
   "cell_type": "code",
   "execution_count": 7,
   "id": "cec63fba",
   "metadata": {},
   "outputs": [
    {
     "data": {
      "text/html": [
       "<div>\n",
       "<style scoped>\n",
       "    .dataframe tbody tr th:only-of-type {\n",
       "        vertical-align: middle;\n",
       "    }\n",
       "\n",
       "    .dataframe tbody tr th {\n",
       "        vertical-align: top;\n",
       "    }\n",
       "\n",
       "    .dataframe thead th {\n",
       "        text-align: right;\n",
       "    }\n",
       "</style>\n",
       "<table border=\"1\" class=\"dataframe\">\n",
       "  <thead>\n",
       "    <tr style=\"text-align: right;\">\n",
       "      <th></th>\n",
       "      <th>Campaign Name</th>\n",
       "      <th>Date</th>\n",
       "      <th>Spend [USD]</th>\n",
       "      <th># of Impressions</th>\n",
       "      <th># of Website Clicks</th>\n",
       "      <th># of Purchase</th>\n",
       "    </tr>\n",
       "  </thead>\n",
       "  <tbody>\n",
       "    <tr>\n",
       "      <th>0</th>\n",
       "      <td>Test Campaign</td>\n",
       "      <td>1.08.2019</td>\n",
       "      <td>3008</td>\n",
       "      <td>39550.0</td>\n",
       "      <td>3038.0</td>\n",
       "      <td>255.0</td>\n",
       "    </tr>\n",
       "    <tr>\n",
       "      <th>1</th>\n",
       "      <td>Test Campaign</td>\n",
       "      <td>2.08.2019</td>\n",
       "      <td>2542</td>\n",
       "      <td>100719.0</td>\n",
       "      <td>4657.0</td>\n",
       "      <td>677.0</td>\n",
       "    </tr>\n",
       "    <tr>\n",
       "      <th>2</th>\n",
       "      <td>Test Campaign</td>\n",
       "      <td>3.08.2019</td>\n",
       "      <td>2365</td>\n",
       "      <td>70263.0</td>\n",
       "      <td>7885.0</td>\n",
       "      <td>578.0</td>\n",
       "    </tr>\n",
       "    <tr>\n",
       "      <th>3</th>\n",
       "      <td>Test Campaign</td>\n",
       "      <td>4.08.2019</td>\n",
       "      <td>2710</td>\n",
       "      <td>78451.0</td>\n",
       "      <td>4216.0</td>\n",
       "      <td>340.0</td>\n",
       "    </tr>\n",
       "    <tr>\n",
       "      <th>4</th>\n",
       "      <td>Test Campaign</td>\n",
       "      <td>5.08.2019</td>\n",
       "      <td>2297</td>\n",
       "      <td>114295.0</td>\n",
       "      <td>5863.0</td>\n",
       "      <td>768.0</td>\n",
       "    </tr>\n",
       "  </tbody>\n",
       "</table>\n",
       "</div>"
      ],
      "text/plain": [
       "   Campaign Name       Date  Spend [USD]  # of Impressions  \\\n",
       "0  Test Campaign  1.08.2019         3008           39550.0   \n",
       "1  Test Campaign  2.08.2019         2542          100719.0   \n",
       "2  Test Campaign  3.08.2019         2365           70263.0   \n",
       "3  Test Campaign  4.08.2019         2710           78451.0   \n",
       "4  Test Campaign  5.08.2019         2297          114295.0   \n",
       "\n",
       "   # of Website Clicks  # of Purchase  \n",
       "0               3038.0          255.0  \n",
       "1               4657.0          677.0  \n",
       "2               7885.0          578.0  \n",
       "3               4216.0          340.0  \n",
       "4               5863.0          768.0  "
      ]
     },
     "execution_count": 7,
     "metadata": {},
     "output_type": "execute_result"
    }
   ],
   "source": [
    "df.drop(['Reach', '# of Searches', '# of View Content', '# of Add to Cart'], axis=1, inplace=True) # not necessary for analysis\n",
    "df.head()"
   ]
  },
  {
   "cell_type": "code",
   "execution_count": 8,
   "id": "7ccafb57",
   "metadata": {},
   "outputs": [
    {
     "name": "stdout",
     "output_type": "stream",
     "text": [
      "<class 'pandas.core.frame.DataFrame'>\n",
      "RangeIndex: 60 entries, 0 to 59\n",
      "Data columns (total 6 columns):\n",
      " #   Column               Non-Null Count  Dtype  \n",
      "---  ------               --------------  -----  \n",
      " 0   Campaign Name        60 non-null     object \n",
      " 1   Date                 60 non-null     object \n",
      " 2   Spend [USD]          60 non-null     int64  \n",
      " 3   # of Impressions     59 non-null     float64\n",
      " 4   # of Website Clicks  59 non-null     float64\n",
      " 5   # of Purchase        59 non-null     float64\n",
      "dtypes: float64(3), int64(1), object(2)\n",
      "memory usage: 2.9+ KB\n"
     ]
    }
   ],
   "source": [
    "df.info()"
   ]
  },
  {
   "cell_type": "code",
   "execution_count": 9,
   "id": "ee091a8b",
   "metadata": {},
   "outputs": [],
   "source": [
    "df['Date'] = pd.to_datetime(df[\"Date\"], dayfirst = True).dt.date\n",
    "df['Spend [USD]'] = df['Spend [USD]'].astype(float)"
   ]
  },
  {
   "cell_type": "code",
   "execution_count": 10,
   "id": "5250d1f1",
   "metadata": {},
   "outputs": [
    {
     "data": {
      "text/html": [
       "<div>\n",
       "<style scoped>\n",
       "    .dataframe tbody tr th:only-of-type {\n",
       "        vertical-align: middle;\n",
       "    }\n",
       "\n",
       "    .dataframe tbody tr th {\n",
       "        vertical-align: top;\n",
       "    }\n",
       "\n",
       "    .dataframe thead th {\n",
       "        text-align: right;\n",
       "    }\n",
       "</style>\n",
       "<table border=\"1\" class=\"dataframe\">\n",
       "  <thead>\n",
       "    <tr style=\"text-align: right;\">\n",
       "      <th></th>\n",
       "      <th>Spend [USD]</th>\n",
       "      <th># of Impressions</th>\n",
       "      <th># of Website Clicks</th>\n",
       "      <th># of Purchase</th>\n",
       "    </tr>\n",
       "  </thead>\n",
       "  <tbody>\n",
       "    <tr>\n",
       "      <th>count</th>\n",
       "      <td>60.000000</td>\n",
       "      <td>59.000000</td>\n",
       "      <td>59.000000</td>\n",
       "      <td>59.000000</td>\n",
       "    </tr>\n",
       "    <tr>\n",
       "      <th>mean</th>\n",
       "      <td>2425.750000</td>\n",
       "      <td>91775.881356</td>\n",
       "      <td>5682.593220</td>\n",
       "      <td>522.000000</td>\n",
       "    </tr>\n",
       "    <tr>\n",
       "      <th>std</th>\n",
       "      <td>381.130461</td>\n",
       "      <td>32465.070636</td>\n",
       "      <td>1754.777559</td>\n",
       "      <td>196.973917</td>\n",
       "    </tr>\n",
       "    <tr>\n",
       "      <th>min</th>\n",
       "      <td>1757.000000</td>\n",
       "      <td>22521.000000</td>\n",
       "      <td>2277.000000</td>\n",
       "      <td>222.000000</td>\n",
       "    </tr>\n",
       "    <tr>\n",
       "      <th>25%</th>\n",
       "      <td>2073.750000</td>\n",
       "      <td>68853.500000</td>\n",
       "      <td>4227.500000</td>\n",
       "      <td>340.000000</td>\n",
       "    </tr>\n",
       "    <tr>\n",
       "      <th>50%</th>\n",
       "      <td>2420.500000</td>\n",
       "      <td>95843.000000</td>\n",
       "      <td>5691.000000</td>\n",
       "      <td>501.000000</td>\n",
       "    </tr>\n",
       "    <tr>\n",
       "      <th>75%</th>\n",
       "      <td>2727.500000</td>\n",
       "      <td>117315.000000</td>\n",
       "      <td>7218.500000</td>\n",
       "      <td>693.000000</td>\n",
       "    </tr>\n",
       "    <tr>\n",
       "      <th>max</th>\n",
       "      <td>3112.000000</td>\n",
       "      <td>145248.000000</td>\n",
       "      <td>8264.000000</td>\n",
       "      <td>890.000000</td>\n",
       "    </tr>\n",
       "  </tbody>\n",
       "</table>\n",
       "</div>"
      ],
      "text/plain": [
       "       Spend [USD]  # of Impressions  # of Website Clicks  # of Purchase\n",
       "count    60.000000         59.000000            59.000000      59.000000\n",
       "mean   2425.750000      91775.881356          5682.593220     522.000000\n",
       "std     381.130461      32465.070636          1754.777559     196.973917\n",
       "min    1757.000000      22521.000000          2277.000000     222.000000\n",
       "25%    2073.750000      68853.500000          4227.500000     340.000000\n",
       "50%    2420.500000      95843.000000          5691.000000     501.000000\n",
       "75%    2727.500000     117315.000000          7218.500000     693.000000\n",
       "max    3112.000000     145248.000000          8264.000000     890.000000"
      ]
     },
     "execution_count": 10,
     "metadata": {},
     "output_type": "execute_result"
    }
   ],
   "source": [
    "df.describe()"
   ]
  },
  {
   "cell_type": "code",
   "execution_count": 11,
   "id": "5a8ff1d8",
   "metadata": {},
   "outputs": [
    {
     "data": {
      "text/plain": [
       "Campaign Name\n",
       "Test Campaign       30\n",
       "Control Campaign    30\n",
       "Name: count, dtype: int64"
      ]
     },
     "execution_count": 11,
     "metadata": {},
     "output_type": "execute_result"
    }
   ],
   "source": [
    "df['Campaign Name'].value_counts()"
   ]
  },
  {
   "cell_type": "code",
   "execution_count": 12,
   "id": "994d68f2",
   "metadata": {},
   "outputs": [
    {
     "data": {
      "text/plain": [
       "Campaign Name           object\n",
       "Date                    object\n",
       "Spend [USD]            float64\n",
       "# of Impressions       float64\n",
       "# of Website Clicks    float64\n",
       "# of Purchase          float64\n",
       "dtype: object"
      ]
     },
     "execution_count": 12,
     "metadata": {},
     "output_type": "execute_result"
    }
   ],
   "source": [
    "df.dtypes"
   ]
  },
  {
   "cell_type": "markdown",
   "id": "bfb329c1",
   "metadata": {},
   "source": [
    "### Data cleaning"
   ]
  },
  {
   "cell_type": "code",
   "execution_count": 13,
   "id": "1a86ae6d",
   "metadata": {},
   "outputs": [
    {
     "data": {
      "text/plain": [
       "Campaign Name          0\n",
       "Date                   0\n",
       "Spend [USD]            0\n",
       "# of Impressions       1\n",
       "# of Website Clicks    1\n",
       "# of Purchase          1\n",
       "dtype: int64"
      ]
     },
     "execution_count": 13,
     "metadata": {},
     "output_type": "execute_result"
    }
   ],
   "source": [
    "df.isnull().sum()"
   ]
  },
  {
   "cell_type": "code",
   "execution_count": 14,
   "id": "d2240577",
   "metadata": {},
   "outputs": [
    {
     "data": {
      "text/html": [
       "<div>\n",
       "<style scoped>\n",
       "    .dataframe tbody tr th:only-of-type {\n",
       "        vertical-align: middle;\n",
       "    }\n",
       "\n",
       "    .dataframe tbody tr th {\n",
       "        vertical-align: top;\n",
       "    }\n",
       "\n",
       "    .dataframe thead th {\n",
       "        text-align: right;\n",
       "    }\n",
       "</style>\n",
       "<table border=\"1\" class=\"dataframe\">\n",
       "  <thead>\n",
       "    <tr style=\"text-align: right;\">\n",
       "      <th></th>\n",
       "      <th>Campaign Name</th>\n",
       "      <th>Date</th>\n",
       "      <th>Spend [USD]</th>\n",
       "      <th># of Impressions</th>\n",
       "      <th># of Website Clicks</th>\n",
       "      <th># of Purchase</th>\n",
       "    </tr>\n",
       "  </thead>\n",
       "  <tbody>\n",
       "    <tr>\n",
       "      <th>34</th>\n",
       "      <td>Control Campaign</td>\n",
       "      <td>2019-08-05</td>\n",
       "      <td>1835.0</td>\n",
       "      <td>NaN</td>\n",
       "      <td>NaN</td>\n",
       "      <td>NaN</td>\n",
       "    </tr>\n",
       "  </tbody>\n",
       "</table>\n",
       "</div>"
      ],
      "text/plain": [
       "       Campaign Name        Date  Spend [USD]  # of Impressions  \\\n",
       "34  Control Campaign  2019-08-05       1835.0               NaN   \n",
       "\n",
       "    # of Website Clicks  # of Purchase  \n",
       "34                  NaN            NaN  "
      ]
     },
     "execution_count": 14,
     "metadata": {},
     "output_type": "execute_result"
    }
   ],
   "source": [
    "df[df.isnull().any(axis=1)]"
   ]
  },
  {
   "cell_type": "code",
   "execution_count": 15,
   "id": "dd524c7f",
   "metadata": {},
   "outputs": [
    {
     "data": {
      "text/plain": [
       "{'# of Impressions': {'Control Campaign': 109560.0, 'Test Campaign': 74585.0},\n",
       " '# of Website Clicks': {'Control Campaign': 5321.0, 'Test Campaign': 6032.0},\n",
       " '# of Purchase': {'Control Campaign': 523.0, 'Test Campaign': 521.0}}"
      ]
     },
     "execution_count": 15,
     "metadata": {},
     "output_type": "execute_result"
    }
   ],
   "source": [
    "var_dict = df.groupby('Campaign Name')[['# of Impressions', '# of Website Clicks', '# of Purchase']].mean().round(0).to_dict()\n",
    "var_dict"
   ]
  },
  {
   "cell_type": "code",
   "execution_count": 16,
   "id": "07e7faa0",
   "metadata": {},
   "outputs": [],
   "source": [
    "for dict_id, dict_info in var_dict.items():\n",
    "    df[str(dict_id)] = df[str(dict_id)].fillna(df['Campaign Name'].map(dict_info))"
   ]
  },
  {
   "cell_type": "code",
   "execution_count": 17,
   "id": "4fce1117",
   "metadata": {},
   "outputs": [
    {
     "data": {
      "text/plain": [
       "Campaign Name          0\n",
       "Date                   0\n",
       "Spend [USD]            0\n",
       "# of Impressions       0\n",
       "# of Website Clicks    0\n",
       "# of Purchase          0\n",
       "dtype: int64"
      ]
     },
     "execution_count": 17,
     "metadata": {},
     "output_type": "execute_result"
    }
   ],
   "source": [
    "df.isnull().sum()"
   ]
  },
  {
   "cell_type": "code",
   "execution_count": 18,
   "id": "87fa2f25",
   "metadata": {},
   "outputs": [
    {
     "data": {
      "image/png": "[encoded data removed]",
      "text/plain": [
       "<Figure size 800x700 with 4 Axes>"
      ]
     },
     "metadata": {},
     "output_type": "display_data"
    }
   ],
   "source": [
    "num_vars = list(df.select_dtypes(include=np.number).columns)\n",
    "n = 1\n",
    "plt.figure(figsize= (8, 7))\n",
    "\n",
    "for var in num_vars:\n",
    "    plt.subplot(2, 2, n)\n",
    "\n",
    "    g = sns.boxplot(data=df, y=var, x= 'Campaign Name', palette = 'pastel') \n",
    "    g.set_xlabel(None)\n",
    "    g.set_ylabel(None)\n",
    "    g.set_title(f'{var} box plot', y =1.03)\n",
    "    plt.xticks(ticks=range(2), labels=['Test', 'Control'])\n",
    "\n",
    "    n = n + 1\n",
    "    plt.tight_layout(pad = 3.5)"
   ]
  },
  {
   "cell_type": "markdown",
   "id": "55fa5faf",
   "metadata": {},
   "source": [
    "### Metrics of Interest"
   ]
  },
  {
   "cell_type": "markdown",
   "id": "abfaa94c",
   "metadata": {},
   "source": [
    "#### Click-Through Rate (CTR) - Helps measure the effectiveness of ads in attracting clicks.\n",
    "#### CTR = (Number of Website Clicks / Number of Impressions)\n",
    "\n",
    "#### Conversion Rate (CR) - Shows what percentage of visitors who clicked on the ad actually made a purchase.\n",
    "#### CR = (Number of Purchases / Number of Website Clicks)\n",
    "\n",
    "#### Cost Per Acquisition (CPA) - Refers to the average cost a company pays to acquire a new customer or a desired conversion, in this case it will be a purchase, through its marketing or advertising strategy.\n",
    "#### CPA = (Spend [USD] / Number of Purchases)\n",
    "\n",
    "#### Cost Per Click (CPC) - It allows you to evaluate the efficiency of advertising expenses to generate clicks.\n",
    "#### CPC = (Spend [USD] / Number of Website Clicks)"
   ]
  },
  {
   "cell_type": "code",
   "execution_count": 19,
   "id": "8c9ad9fe",
   "metadata": {},
   "outputs": [
    {
     "data": {
      "text/html": [
       "<div>\n",
       "<style scoped>\n",
       "    .dataframe tbody tr th:only-of-type {\n",
       "        vertical-align: middle;\n",
       "    }\n",
       "\n",
       "    .dataframe tbody tr th {\n",
       "        vertical-align: top;\n",
       "    }\n",
       "\n",
       "    .dataframe thead th {\n",
       "        text-align: right;\n",
       "    }\n",
       "</style>\n",
       "<table border=\"1\" class=\"dataframe\">\n",
       "  <thead>\n",
       "    <tr style=\"text-align: right;\">\n",
       "      <th></th>\n",
       "      <th>Campaign Name</th>\n",
       "      <th>Date</th>\n",
       "      <th>Spend [USD]</th>\n",
       "      <th># of Impressions</th>\n",
       "      <th># of Website Clicks</th>\n",
       "      <th># of Purchase</th>\n",
       "      <th>CTR</th>\n",
       "      <th>CR</th>\n",
       "      <th>CPC</th>\n",
       "      <th>CPA</th>\n",
       "    </tr>\n",
       "  </thead>\n",
       "  <tbody>\n",
       "    <tr>\n",
       "      <th>0</th>\n",
       "      <td>Test Campaign</td>\n",
       "      <td>2019-08-01</td>\n",
       "      <td>3008.0</td>\n",
       "      <td>39550.0</td>\n",
       "      <td>3038.0</td>\n",
       "      <td>255.0</td>\n",
       "      <td>0.076814</td>\n",
       "      <td>0.083937</td>\n",
       "      <td>0.990125</td>\n",
       "      <td>11.796078</td>\n",
       "    </tr>\n",
       "    <tr>\n",
       "      <th>1</th>\n",
       "      <td>Test Campaign</td>\n",
       "      <td>2019-08-02</td>\n",
       "      <td>2542.0</td>\n",
       "      <td>100719.0</td>\n",
       "      <td>4657.0</td>\n",
       "      <td>677.0</td>\n",
       "      <td>0.046238</td>\n",
       "      <td>0.145373</td>\n",
       "      <td>0.545845</td>\n",
       "      <td>3.754801</td>\n",
       "    </tr>\n",
       "    <tr>\n",
       "      <th>2</th>\n",
       "      <td>Test Campaign</td>\n",
       "      <td>2019-08-03</td>\n",
       "      <td>2365.0</td>\n",
       "      <td>70263.0</td>\n",
       "      <td>7885.0</td>\n",
       "      <td>578.0</td>\n",
       "      <td>0.112221</td>\n",
       "      <td>0.073304</td>\n",
       "      <td>0.299937</td>\n",
       "      <td>4.091696</td>\n",
       "    </tr>\n",
       "    <tr>\n",
       "      <th>3</th>\n",
       "      <td>Test Campaign</td>\n",
       "      <td>2019-08-04</td>\n",
       "      <td>2710.0</td>\n",
       "      <td>78451.0</td>\n",
       "      <td>4216.0</td>\n",
       "      <td>340.0</td>\n",
       "      <td>0.053741</td>\n",
       "      <td>0.080645</td>\n",
       "      <td>0.642789</td>\n",
       "      <td>7.970588</td>\n",
       "    </tr>\n",
       "    <tr>\n",
       "      <th>4</th>\n",
       "      <td>Test Campaign</td>\n",
       "      <td>2019-08-05</td>\n",
       "      <td>2297.0</td>\n",
       "      <td>114295.0</td>\n",
       "      <td>5863.0</td>\n",
       "      <td>768.0</td>\n",
       "      <td>0.051297</td>\n",
       "      <td>0.130991</td>\n",
       "      <td>0.391779</td>\n",
       "      <td>2.990885</td>\n",
       "    </tr>\n",
       "  </tbody>\n",
       "</table>\n",
       "</div>"
      ],
      "text/plain": [
       "   Campaign Name        Date  Spend [USD]  # of Impressions  \\\n",
       "0  Test Campaign  2019-08-01       3008.0           39550.0   \n",
       "1  Test Campaign  2019-08-02       2542.0          100719.0   \n",
       "2  Test Campaign  2019-08-03       2365.0           70263.0   \n",
       "3  Test Campaign  2019-08-04       2710.0           78451.0   \n",
       "4  Test Campaign  2019-08-05       2297.0          114295.0   \n",
       "\n",
       "   # of Website Clicks  # of Purchase       CTR        CR       CPC        CPA  \n",
       "0               3038.0          255.0  0.076814  0.083937  0.990125  11.796078  \n",
       "1               4657.0          677.0  0.046238  0.145373  0.545845   3.754801  \n",
       "2               7885.0          578.0  0.112221  0.073304  0.299937   4.091696  \n",
       "3               4216.0          340.0  0.053741  0.080645  0.642789   7.970588  \n",
       "4               5863.0          768.0  0.051297  0.130991  0.391779   2.990885  "
      ]
     },
     "execution_count": 19,
     "metadata": {},
     "output_type": "execute_result"
    }
   ],
   "source": [
    "df['CTR'] = df['# of Website Clicks'] / df['# of Impressions']\n",
    "df['CR'] = df['# of Purchase'] / df['# of Website Clicks']\n",
    "df['CPC'] = df['Spend [USD]'] / df['# of Website Clicks']\n",
    "df['CPA'] = df['Spend [USD]'] / df['# of Purchase']\n",
    "\n",
    "df.head()"
   ]
  },
  {
   "cell_type": "code",
   "execution_count": 20,
   "id": "8013ff51",
   "metadata": {},
   "outputs": [
    {
     "data": {
      "image/png": "[encoded data removed]",
      "text/plain": [
       "<Figure size 1200x500 with 3 Axes>"
      ]
     },
     "metadata": {},
     "output_type": "display_data"
    }
   ],
   "source": [
    "num_vars = ['# of Impressions', '# of Website Clicks', '# of Purchase']\n",
    "n = 1\n",
    "\n",
    "plt.figure(figsize=(12, 5))\n",
    "\n",
    "sns_version = sns.__version__\n",
    "\n",
    "for var in num_vars:\n",
    "    plt.subplot(1, 3, n)\n",
    "    if sns_version >= \"0.12\":\n",
    "        g = sns.barplot(data=df, y=var, x='Campaign Name', palette='pastel', estimator=np.sum, errorbar=None)\n",
    "    else:\n",
    "        g = sns.barplot(data=df, y=var, x='Campaign Name', palette='pastel', estimator=np.sum, ci=None)\n",
    "    \n",
    "    g.set_xlabel(None)\n",
    "    g.set_ylabel(None)\n",
    "    g.set_title(f'{var} Bar plot', y=1.05)\n",
    "    plt.xticks(ticks=range(2), labels=['Test', 'Control'])\n",
    "    \n",
    "    # Add bar labels\n",
    "    for container in g.containers:\n",
    "        g.bar_label(container)\n",
    "\n",
    "    n += 1\n",
    "\n",
    "plt.tight_layout(pad=2.2)\n",
    "plt.show()\n"
   ]
  },
  {
   "cell_type": "code",
   "execution_count": 21,
   "id": "76e643b2",
   "metadata": {},
   "outputs": [
    {
     "data": {
      "image/png": "[encoded data removed]",
      "text/plain": [
       "<Figure size 1600x500 with 4 Axes>"
      ]
     },
     "metadata": {},
     "output_type": "display_data"
    }
   ],
   "source": [
    "metrics = ['CTR', 'CR', 'CPC', 'CPA']\n",
    "n = 1\n",
    "\n",
    "plt.figure(figsize=(16, 5))\n",
    "\n",
    "sns_version = sns.__version__\n",
    "\n",
    "for m in metrics:\n",
    "    plt.subplot(1, 4, n)\n",
    "    if sns_version >= \"0.12\":\n",
    "        g = sns.barplot(data=df, y=m, x='Campaign Name', palette='pastel', estimator=np.mean, errorbar=None)\n",
    "    else:\n",
    "        g = sns.barplot(data=df, y=m, x='Campaign Name', palette='pastel', estimator=np.mean, ci=None)\n",
    "    g.set_xlabel(None)\n",
    "    g.set_ylabel(None)\n",
    "    g.set_title(f'{m}', y=1.05)\n",
    "    plt.xticks(ticks=range(2), labels=['Test', 'Control'])\n",
    "    \n",
    "\n",
    "    for container in g.containers:\n",
    "        g.bar_label(container)\n",
    "        \n",
    "    n += 1\n",
    "\n",
    "plt.tight_layout(pad=2.2)\n",
    "plt.show()"
   ]
  },
  {
   "cell_type": "markdown",
   "id": "cff50fb0",
   "metadata": {},
   "source": [
    "### Hypothesis Testing"
   ]
  },
  {
   "cell_type": "markdown",
   "id": "ecf7857b",
   "metadata": {},
   "source": [
    "#### Null Hypothesis (H0): There is no difference in performance between Average Bidding and Maximum Bidding.\n",
    "#### Alternative Hypothesis (H1): There is a significant difference in performance between Average Bidding and Maximum Bidding."
   ]
  },
  {
   "cell_type": "markdown",
   "id": "04fb6d58",
   "metadata": {},
   "source": [
    "#### Normality test - To test whether the distribution of the data of both groups is normal"
   ]
  },
  {
   "cell_type": "code",
   "execution_count": 24,
   "id": "efa95536",
   "metadata": {},
   "outputs": [
    {
     "data": {
      "image/png": "[encoded data removed]",
      "text/plain": [
       "<Figure size 1600x1000 with 4 Axes>"
      ]
     },
     "metadata": {},
     "output_type": "display_data"
    }
   ],
   "source": [
    "import seaborn as sns\n",
    "import matplotlib.pyplot as plt\n",
    "\n",
    "metrics = ['CTR', 'CR', 'CPC', 'CPA']\n",
    "plt.figure(figsize=(16, 10))\n",
    "\n",
    "for i, m in enumerate(metrics, start=1):\n",
    "    plt.subplot(2, 2, i)\n",
    "    sns.histplot(data=df, x=m, hue='Campaign Name', palette='pastel', kde=False, bins=10)\n",
    "    plt.title(f\"Histogram for {m}\")\n",
    "    plt.xlabel(m)\n",
    "    plt.ylabel(\"Frequency\")\n",
    "\n",
    "plt.tight_layout()\n",
    "plt.show()"
   ]
  },
  {
   "cell_type": "markdown",
   "id": "39df8197",
   "metadata": {},
   "source": [
    "#### Shapiro-Wiilk Test to check if data deviates from the normal distribution"
   ]
  },
  {
   "cell_type": "code",
   "execution_count": 27,
   "id": "efbc01ee",
   "metadata": {},
   "outputs": [],
   "source": [
    "# Null Hypothesis (H0): Sample is from the normal distribution.\n",
    "# Alternative Hypothesis (H1): Sample is not from the normal distributions."
   ]
  },
  {
   "cell_type": "code",
   "execution_count": 28,
   "id": "d805bca1",
   "metadata": {},
   "outputs": [
    {
     "name": "stdout",
     "output_type": "stream",
     "text": [
      "CTR Shapiro-Wilk Test:\n",
      "\n",
      "\t- Statistic: 0.7670426964759827\n",
      "\t- P-value: 2.2244616815214613e-08\n",
      "\n",
      "\n",
      "CR Shapiro-Wilk Test:\n",
      "\n",
      "\t- Statistic: 0.8906092047691345\n",
      "\t- P-value: 6.085419954615645e-05\n",
      "\n",
      "\n",
      "CPC Shapiro-Wilk Test:\n",
      "\n",
      "\t- Statistic: 0.891433596611023\n",
      "\t- P-value: 6.502798350993544e-05\n",
      "\n",
      "\n",
      "CPA Shapiro-Wilk Test:\n",
      "\n",
      "\t- Statistic: 0.8985587954521179\n",
      "\t- P-value: 0.0001166009169537574\n",
      "\n",
      "\n"
     ]
    }
   ],
   "source": [
    "metrics = ['CTR', 'CR', 'CPC', 'CPA']\n",
    "for m in metrics:\n",
    "    result = shapiro(df[m])\n",
    "    statistic = result[0]\n",
    "    p_value = result[1]\n",
    "    print(f'{m} Shapiro-Wilk Test:\\n')\n",
    "    print(f'\\t- Statistic: {statistic}')\n",
    "    print(f'\\t- P-value: {p_value}\\n\\n')"
   ]
  },
  {
   "cell_type": "markdown",
   "id": "57bd0446",
   "metadata": {},
   "source": [
    "##### we can reject the null hypothesis as p_values is less than the significant level of 0.05. The groups are not normally distributed"
   ]
  },
  {
   "cell_type": "markdown",
   "id": "e82d87b6",
   "metadata": {},
   "source": [
    "#### Mann Whitney U Test"
   ]
  },
  {
   "cell_type": "code",
   "execution_count": 29,
   "id": "06360a8c",
   "metadata": {},
   "outputs": [],
   "source": [
    "def mann_whitney_u(metric, alpha):\n",
    "    df_wide = df.pivot(columns = 'Campaign Name', values = metric)\n",
    "    test = pingouin.mwu(\n",
    "                 x = df_wide['Control Campaign'],\n",
    "                 y = df_wide['Test Campaign'],\n",
    "                 alternative = 'two-sided'\n",
    "                )\n",
    "\n",
    "    u_value = test.loc['MWU','U-val']\n",
    "    p_value = test.loc['MWU', 'p-val'].round(5)\n",
    "\n",
    "    print('\\nMann Whitney U test for {}:\\n'.format(metric))\n",
    "    print(f'\\t- p value is {p_value}\\n')\n",
    "    print(f'\\t- U value is {u_value}\\n')\n",
    "\n",
    "    if p_value < alpha:\n",
    "        print('\\nWe reject the null hypothesis, there is sufficient evidence to affirm that there is a statistically significant difference between Control and Test {}.'.format(metric))\n",
    "        \n",
    "    else:\n",
    "        print('\\nWe fail to reject the null hypothesis, there is sufficient evidence to affirm that there is no statistically significant difference between Control and Test {}.'.format(metric))\n"
   ]
  },
  {
   "cell_type": "markdown",
   "id": "7cd0d744",
   "metadata": {},
   "source": [
    "#### CTR - Click-Through Rate\n",
    "#### Null Hypothesis (H0): There is no difference in CTR between Average Bidding and Maximum Bidding.\n",
    "#### Alternative Hypothesis (H1): There is a significant difference in CTR between Average Bidding and Maximum Bidding.\n",
    "#### Significance level is 0.05."
   ]
  },
  {
   "cell_type": "code",
   "execution_count": 31,
   "id": "d2375672",
   "metadata": {},
   "outputs": [
    {
     "name": "stdout",
     "output_type": "stream",
     "text": [
      "\n",
      "Mann Whitney U test for CTR:\n",
      "\n",
      "\t- p value is 0.00021\n",
      "\n",
      "\t- U value is 199.0\n",
      "\n",
      "\n",
      "We reject the null hypothesis, there is sufficient evidence to affirm that there is a statistically significant difference between Control and Test CTR.\n"
     ]
    }
   ],
   "source": [
    "mann_whitney_u(metric = 'CTR', alpha = 0.05)"
   ]
  },
  {
   "cell_type": "markdown",
   "id": "ad062c14",
   "metadata": {},
   "source": [
    "#### CR - Conversion Rate\n",
    "#### Null Hypothesis (H0): There is no difference in CR between Average Bidding and Maximum Bidding.\n",
    "#### Alternative Hypothesis (H1): There is a significant difference in CR between Average Bidding and Maximum Bidding.\n",
    "#### Significance level is 0.05"
   ]
  },
  {
   "cell_type": "markdown",
   "id": "719c75b4",
   "metadata": {},
   "source": [
    "<!-- #### CR - Conversion Rate¶\n",
    "Null Hypothesis (H0): There is no difference in CR between Average Bidding and Maximum Bidding.\n",
    "Alternative Hypothesis (H1): There is a significant difference in CR between Average Bidding and Maximum Bidding.\n",
    "Significance level is 0.05. -->"
   ]
  },
  {
   "cell_type": "code",
   "execution_count": 32,
   "id": "aa95bf95",
   "metadata": {},
   "outputs": [
    {
     "name": "stdout",
     "output_type": "stream",
     "text": [
      "\n",
      "Mann Whitney U test for CR:\n",
      "\n",
      "\t- p value is 0.28378\n",
      "\n",
      "\t- U value is 523.0\n",
      "\n",
      "\n",
      "We fail to reject the null hypothesis, there is sufficient evidence to affirm that there is no statistically significant difference between Control and Test CR.\n"
     ]
    }
   ],
   "source": [
    "mann_whitney_u(metric = 'CR', alpha = 0.05)"
   ]
  },
  {
   "cell_type": "markdown",
   "id": "ae16025a",
   "metadata": {},
   "source": [
    "#### CPC - Cost Per Click¶\n",
    "#### Null Hypothesis (H0): There is no difference in CPC between Average Bidding and Maximum Bidding.\n",
    "#### Alternative Hypothesis (H1): There is a significant difference in CPC between Average Bidding and Maximum Bidding.\n",
    "#### Significance level is 0.05."
   ]
  },
  {
   "cell_type": "code",
   "execution_count": 33,
   "id": "c8d7a6be",
   "metadata": {},
   "outputs": [
    {
     "name": "stdout",
     "output_type": "stream",
     "text": [
      "\n",
      "Mann Whitney U test for CPC:\n",
      "\n",
      "\t- p value is 0.87663\n",
      "\n",
      "\t- U value is 461.0\n",
      "\n",
      "\n",
      "We fail to reject the null hypothesis, there is sufficient evidence to affirm that there is no statistically significant difference between Control and Test CPC.\n"
     ]
    }
   ],
   "source": [
    "mann_whitney_u(metric = 'CPC', alpha = 0.05)"
   ]
  },
  {
   "cell_type": "markdown",
   "id": "9040aaef",
   "metadata": {},
   "source": [
    "#### CPA - Cost Per Acquisition¶\n",
    "#### Null Hypothesis (H0): There is no difference in CPA between Average Bidding and Maximum Bidding.\n",
    "#### Alternative Hypothesis (H1): There is a significant difference in CPA between Average Bidding and Maximum Bidding.\n",
    "#### Significance level is 0.05."
   ]
  },
  {
   "cell_type": "code",
   "execution_count": 34,
   "id": "d981143d",
   "metadata": {},
   "outputs": [
    {
     "name": "stdout",
     "output_type": "stream",
     "text": [
      "\n",
      "Mann Whitney U test for CPA:\n",
      "\n",
      "\t- p value is 0.22823\n",
      "\n",
      "\t- U value is 368.0\n",
      "\n",
      "\n",
      "We fail to reject the null hypothesis, there is sufficient evidence to affirm that there is no statistically significant difference between Control and Test CPA.\n"
     ]
    }
   ],
   "source": [
    "mann_whitney_u(metric = 'CPA', alpha = 0.05)"
   ]
  }
 ],
 "metadata": {
  "kernelspec": {
   "display_name": "Python 3 (ipykernel)",
   "language": "python",
   "name": "python3"
  },
  "language_info": {
   "codemirror_mode": {
    "name": "ipython",
    "version": 3
   },
   "file_extension": ".py",
   "mimetype": "text/x-python",
   "name": "python",
   "nbconvert_exporter": "python",
   "pygments_lexer": "ipython3",
   "version": "3.9.13"
  }
 },
 "nbformat": 4,
 "nbformat_minor": 5
}
